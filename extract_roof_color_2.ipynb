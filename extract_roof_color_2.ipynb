{
 "cells": [
  {
   "cell_type": "code",
   "execution_count": 119,
   "metadata": {},
   "outputs": [],
   "source": [
    "import os\n",
    "import pandas as pd\n",
    "import numpy as np"
   ]
  },
  {
   "cell_type": "code",
   "execution_count": 165,
   "metadata": {},
   "outputs": [],
   "source": [
    "#vars\n",
    "list_of_bands = [[\"PIN2023_475390.sid_Band_1\", \"red\"],\n",
    "                 [\"PIN2023_475390.sid_Band_2\",\"Green\"],\n",
    "                 [\"PIN2023_475390.sid_Band_3\",\"Blue\"]\n",
    "                ]\n",
    "buildings_fc = \"Buildings_ExtractRoofForm\"\n",
    "buildings_fld = \"BuildingFID\"\n",
    "out_path = \"E:/GIS_Lab_Home/NOAA_Proposal_PHD_home/Data/FFE/FFE/color_extraction.gdb\"\n",
    "list_of_table_names = [\n",
    "    \"Red_zonal_building\",\n",
    "    \"Green_zonal_building\",\n",
    "    \"Blue_zonal_building\"\n",
    "]\n",
    "alphabet_list = [\"A\",\"B\",\"C\",\"D\",\"E\",\"F\"]"
   ]
  },
  {
   "cell_type": "code",
   "execution_count": null,
   "metadata": {},
   "outputs": [],
   "source": [
    "#extract r, g, b values to a table based on the mean\n",
    "for band in list_of_bands:\n",
    "    out_table = os.path.join(out_path,band[1]+\"_zonal_building\")\n",
    "    arcpy.ia.ZonalStatisticsAsTable(\n",
    "        in_zone_data=buildings_fc,\n",
    "        zone_field=buildings_fld,\n",
    "        in_value_raster=band[0],\n",
    "        out_table=out_table,\n",
    "        ignore_nodata=\"DATA\",\n",
    "        statistics_type=\"MEAN\",\n",
    "        process_as_multidimensional=\"CURRENT_SLICE\",\n",
    "        percentile_values=[90],\n",
    "        percentile_interpolation_type=\"AUTO_DETECT\",\n",
    "        circular_calculation=\"ARITHMETIC\",\n",
    "        circular_wrap_value=360,\n",
    "        out_join_layer=None\n",
    "    )"
   ]
  },
  {
   "cell_type": "code",
   "execution_count": 166,
   "metadata": {},
   "outputs": [
    {
     "name": "stdout",
     "output_type": "stream",
     "text": [
      "[['Building_1' 'AFB5B1']\n",
      " ['Building_2' '98A29D']\n",
      " ['Building_3' '868B7E']\n",
      " ...\n",
      " ['Building_2073' '67604C']\n",
      " ['Building_2074' '817B5C']\n",
      " ['Building_2075' '707772']]\n"
     ]
    }
   ],
   "source": [
    "#join tables\n",
    "#get building FID\n",
    "master_array = arcpy.da.FeatureClassToNumPyArray(os.path.join(out_path,list_of_table_names[0]), [\"BuildingFID\"])\n",
    "master_array = master_array.astype(str)\n",
    "\n",
    "# Convert the ESRI table to a NumPy array\n",
    "for table_names in list_of_table_names:\n",
    "#get mean values as numpy array\n",
    "    #get path\n",
    "    table_to_arr = os.path.join(out_path,table_names)\n",
    "    #convert table to array\n",
    "    array = arcpy.da.FeatureClassToNumPyArray(table_to_arr, [\"MEAN\"])\n",
    "    \n",
    "    #round the mean values\n",
    "    array = array.astype(int)\n",
    "    \n",
    "    #get quotients and remainders\n",
    "    quotients, remainders = divmod(array,16)\n",
    "    \n",
    "    #reassign values\n",
    "    #convert to object arrays so conversion is possible\n",
    "    remainders = remainders.astype(object)\n",
    "    quotients = quotients.astype(object)\n",
    "    #loop through and grab the number from the array and convert it to the letter in the list, 10=A, 11=B\n",
    "    for i in range(10,16):\n",
    "        remainders = np.where(remainders == i, alphabet_list[i-10], remainders)\n",
    "        quotients = np.where(quotients == i, alphabet_list[i-10], quotients)\n",
    "    #concatenate\n",
    "    arr = [str(quotients[i]) + str(remainders[i]) for i in range(len(quotients))]\n",
    "    #convert to object so appendable\n",
    "    arr = np.array(arr, dtype=object)\n",
    "    \n",
    "    #append to buildings ID list\n",
    "    master_array = np.column_stack((master_array, arr))\n",
    "\n",
    "\n",
    "#convert to string\n",
    "master_array = master_array.astype(str)\n",
    "# Extract the Building IDs (first column)\n",
    "building_ids = master_array[:, 0]\n",
    "\n",
    "# Concatenate the remaining columns (except the first column)\n",
    "concatenated_values = np.core.defchararray.add(master_array[:, 1], master_array[:, 2])\n",
    "concatenated_values = np.core.defchararray.add(concatenated_values, master_array[:, 3])\n",
    "\n",
    "# Create the final array by combining the Building ID with the concatenated values\n",
    "final_array = np.column_stack((building_ids, concatenated_values))\n",
    "\n",
    "print(final_array)"
   ]
  },
  {
   "cell_type": "code",
   "execution_count": 176,
   "metadata": {},
   "outputs": [
    {
     "name": "stdout",
     "output_type": "stream",
     "text": [
      "Table created and rows inserted successful\n"
     ]
    }
   ],
   "source": [
    "#convert back to a table\n",
    "out_hex_table = table_full_path = os.path.join(out_path,\"out_hex_table\")\n",
    "\n",
    "#define dtypes for structured array\n",
    "dtype = [('BuildingFID', 'U50'), ('Hex', 'U50')]\n",
    "\n",
    "#convert to structured array\n",
    "structured_data = np.array([(row[0], row[1]) for row in final_array], dtype=dtype)\n",
    "\n",
    "#send back as table\n",
    "arcpy.da.NumPyArrayToTable(structured_data, out_hex_table)\n",
    "\n",
    "print(\"Table created and rows inserted successful\")\n"
   ]
  },
  {
   "cell_type": "code",
   "execution_count": null,
   "metadata": {},
   "outputs": [],
   "source": []
  }
 ],
 "metadata": {
  "kernelspec": {
   "display_name": "ArcGISPro",
   "language": "python",
   "name": "python3"
  },
  "language_info": {
   "file_extension": ".py",
   "mimetype": "text/x-python",
   "name": "python",
   "version": "3.11.10"
  }
 },
 "nbformat": 4,
 "nbformat_minor": 4
}
